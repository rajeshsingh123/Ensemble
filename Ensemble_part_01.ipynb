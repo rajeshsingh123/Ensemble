{
  "nbformat": 4,
  "nbformat_minor": 0,
  "metadata": {
    "colab": {
      "provenance": [],
      "toc_visible": true,
      "include_colab_link": true
    },
    "kernelspec": {
      "name": "python3",
      "display_name": "Python 3"
    },
    "language_info": {
      "name": "python"
    }
  },
  "cells": [
    {
      "cell_type": "markdown",
      "metadata": {
        "id": "view-in-github",
        "colab_type": "text"
      },
      "source": [
        "<a href=\"https://colab.research.google.com/github/rajeshsingh123/Ensemble/blob/main/Ensemble_part_01.ipynb\" target=\"_parent\"><img src=\"https://colab.research.google.com/assets/colab-badge.svg\" alt=\"Open In Colab\"/></a>"
      ]
    },
    {
      "cell_type": "markdown",
      "source": [
        "#Ensemble Overview"
      ],
      "metadata": {
        "id": "rS2KB58kUUmg"
      }
    },
    {
      "cell_type": "markdown",
      "metadata": {
        "id": "BPoABHqTdoGh"
      },
      "source": [
        "**Ask a complex question to thousands of random people, then aggregate\n",
        "their answers. In many cases you will find that this aggregated answer is better than\n",
        "an expert’s answer.**\n",
        "\n",
        "A group of predictors is called an **ensemble**; thus, this technique is called **Ensemble Learning**, and an\n",
        "Ensemble Learning algorithm is called an **Ensemble method**."
      ]
    },
    {
      "cell_type": "markdown",
      "metadata": {
        "id": "0_1P6arnetND"
      },
      "source": [
        "The most popular Ensemble methods, including \n",
        "\n",
        "*   Voting\n",
        "    > Hard\n",
        "    > Soft\n",
        "*   bagging\n",
        "    * Random Forest\n",
        "    * Extra Trees \n",
        "*   boosting\n",
        "    * AdaBoost\n",
        "    * Gradient Boost\n",
        "    * XGBoost\n",
        "*   stacking\n",
        "    * Hold out\n",
        "    * k-Fold\n"
      ]
    },
    {
      "cell_type": "markdown",
      "source": [
        "## Math proof"
      ],
      "metadata": {
        "id": "BHrTWZQsbOE9"
      }
    },
    {
      "cell_type": "code",
      "source": [
        "import numpy as np\n",
        "import math\n",
        "\n",
        "def nCr(n,r):\n",
        "    f = math.factorial\n",
        "    return f(n) / f(r) / f(n-r)"
      ],
      "metadata": {
        "id": "HcpSPK20bUkf"
      },
      "execution_count": null,
      "outputs": []
    },
    {
      "cell_type": "code",
      "source": [
        "nCr(10,0)"
      ],
      "metadata": {
        "colab": {
          "base_uri": "https://localhost:8080/"
        },
        "id": "vkSTMrOKbT-x",
        "outputId": "5a459113-0134-4cea-f6c3-768d12a05b8d"
      },
      "execution_count": null,
      "outputs": [
        {
          "output_type": "execute_result",
          "data": {
            "text/plain": [
              "1.0"
            ]
          },
          "metadata": {},
          "execution_count": 2
        }
      ]
    },
    {
      "cell_type": "code",
      "source": [
        "def correct(n, pos=0.6, neg=0.4):\n",
        "    po = 0\n",
        "    ne = 0\n",
        "    i=n\n",
        "    while i >= (n+1)//2:\n",
        "        f = nCr(n, i)\n",
        "        po += (pos**i)*(neg**(n-i))**f\n",
        "        ne += (neg**i)*(pos**(n-i))**f\n",
        "        i-=1\n",
        "    return (po, ne)"
      ],
      "metadata": {
        "id": "mHDG643IbQcF"
      },
      "execution_count": null,
      "outputs": []
    },
    {
      "cell_type": "code",
      "source": [
        "correct(3)"
      ],
      "metadata": {
        "colab": {
          "base_uri": "https://localhost:8080/"
        },
        "id": "4l9Sn8swczxB",
        "outputId": "9e7a6356-28ac-4c93-e9be-a94bcff72dea"
      },
      "execution_count": null,
      "outputs": [
        {
          "output_type": "execute_result",
          "data": {
            "text/plain": [
              "(0.23903999999999997, 0.09856000000000001)"
            ]
          },
          "metadata": {},
          "execution_count": 4
        }
      ]
    },
    {
      "cell_type": "markdown",
      "metadata": {
        "id": "VeIj9ZpOfWlX"
      },
      "source": [
        "## Voting Classiers\n",
        "\n",
        "aggragates multiple weak classifiers results and gets a better accuraccy."
      ]
    },
    {
      "cell_type": "code",
      "metadata": {
        "id": "Kq4LT8ScdrWS"
      },
      "source": [
        "import pandas as pd\n",
        "import numpy as np\n"
      ],
      "execution_count": null,
      "outputs": []
    },
    {
      "cell_type": "code",
      "metadata": {
        "colab": {
          "base_uri": "https://localhost:8080/"
        },
        "id": "UzixcWfxJe0Q",
        "outputId": "03d1f695-3bf4-49db-d20f-fce71a403a07"
      },
      "source": [
        "from sklearn.datasets import make_moons\n",
        "\n",
        "X, Y = make_moons(n_samples = 5000, noise=0.4, shuffle=True)\n",
        "moons = np.concatenate([X, Y.reshape(Y.size, 1)], axis=1)\n",
        "moons"
      ],
      "execution_count": null,
      "outputs": [
        {
          "output_type": "execute_result",
          "data": {
            "text/plain": [
              "array([[ 0.54875022,  0.57644862,  0.        ],\n",
              "       [ 0.65220312,  0.04341821,  1.        ],\n",
              "       [ 1.31639127,  0.00265748,  0.        ],\n",
              "       ...,\n",
              "       [ 0.71414286,  0.31529829,  0.        ],\n",
              "       [ 1.36587218, -0.13214453,  1.        ],\n",
              "       [-0.67616938,  0.79382872,  1.        ]])"
            ]
          },
          "metadata": {},
          "execution_count": 6
        }
      ]
    },
    {
      "cell_type": "code",
      "metadata": {
        "id": "dFdnz0H2K2er"
      },
      "source": [
        "def splitTT(data, test_size, **kwargs):\n",
        "\n",
        "  from sklearn.model_selection import train_test_split\n",
        "\n",
        "  train_set, test_set = train_test_split(data, test_size=test_size, **kwargs)\n",
        "\n",
        "  x_train, y_train = train_set[::, 0:2], train_set[::, -1]\n",
        "  x_test, y_test = test_set[::, 0:2], test_set[::, -1]\n",
        "\n",
        "  return x_train, y_train, x_test, y_test\n",
        "\n",
        "x_train, y_train, x_test, y_test = splitTT(moons, 0.3)"
      ],
      "execution_count": null,
      "outputs": []
    },
    {
      "cell_type": "code",
      "metadata": {
        "id": "-HxHBOcTJfx1",
        "colab": {
          "base_uri": "https://localhost:8080/"
        },
        "outputId": "6b8d400c-9900-40f2-e20d-e011cf2f15e4"
      },
      "source": [
        "from sklearn.ensemble import RandomForestClassifier\n",
        "from sklearn.ensemble import VotingClassifier\n",
        "from sklearn.linear_model import LogisticRegression\n",
        "from sklearn.svm import SVC\n",
        "\n",
        "log_clf = LogisticRegression()\n",
        "rnd_clf = RandomForestClassifier()\n",
        "svm_clf = SVC()\n",
        "\n",
        "voting_clf = VotingClassifier(\n",
        "                        estimators=[('lr', log_clf), ('rf', rnd_clf), ('svc', svm_clf)],\n",
        "                        voting='hard')\n",
        "voting_clf.fit(x_train, y_train)"
      ],
      "execution_count": null,
      "outputs": [
        {
          "output_type": "execute_result",
          "data": {
            "text/plain": [
              "VotingClassifier(estimators=[('lr', LogisticRegression()),\n",
              "                             ('rf', RandomForestClassifier()), ('svc', SVC())])"
            ]
          },
          "metadata": {},
          "execution_count": 8
        }
      ]
    },
    {
      "cell_type": "code",
      "metadata": {
        "colab": {
          "base_uri": "https://localhost:8080/"
        },
        "id": "cIMIYGygkF-o",
        "outputId": "11cf2dbd-5677-406a-80f1-a78f77737873"
      },
      "source": [
        "from sklearn.metrics import accuracy_score, mean_squared_error\n",
        "\n",
        "for clf in (log_clf, rnd_clf, svm_clf, voting_clf):\n",
        "  \n",
        "  clf.fit(x_train, y_train)\n",
        "  y_pred = clf.predict(x_test)\n",
        "  print(clf.__class__.__name__, accuracy_score(y_test, y_pred))"
      ],
      "execution_count": null,
      "outputs": [
        {
          "output_type": "stream",
          "name": "stdout",
          "text": [
            "LogisticRegression 0.84\n",
            "RandomForestClassifier 0.8566666666666667\n",
            "SVC 0.874\n",
            "VotingClassifier 0.8673333333333333\n"
          ]
        }
      ]
    },
    {
      "cell_type": "markdown",
      "metadata": {
        "id": "RNbv_pPmmcuu"
      },
      "source": [
        "**voting = hard** find majority label\n",
        "\n",
        "**voting = soft** predicts the class label based on the argmax of the sums of the predicted probabilities\n",
        "\n",
        "by default svc don't calculate probability"
      ]
    },
    {
      "cell_type": "code",
      "metadata": {
        "id": "GkSI4LWZlXIk",
        "colab": {
          "base_uri": "https://localhost:8080/"
        },
        "outputId": "8eff8e3c-cbf0-41bd-d051-46026770791e"
      },
      "source": [
        "from sklearn.ensemble import RandomForestClassifier\n",
        "from sklearn.ensemble import VotingClassifier\n",
        "from sklearn.linear_model import LogisticRegression\n",
        "from sklearn.svm import SVC\n",
        "\n",
        "log_clf = LogisticRegression()\n",
        "rnd_clf = RandomForestClassifier()\n",
        "svm_clf = SVC(probability = True)\n",
        "\n",
        "voting_clf = VotingClassifier(\n",
        "                        estimators=[('lr', log_clf), ('rf', rnd_clf), ('svc', svm_clf)],\n",
        "                        voting='soft')\n",
        "voting_clf.fit(x_train, y_train)"
      ],
      "execution_count": null,
      "outputs": [
        {
          "output_type": "execute_result",
          "data": {
            "text/plain": [
              "VotingClassifier(estimators=[('lr', LogisticRegression()),\n",
              "                             ('rf', RandomForestClassifier()),\n",
              "                             ('svc', SVC(probability=True))],\n",
              "                 voting='soft')"
            ]
          },
          "metadata": {},
          "execution_count": 9
        }
      ]
    },
    {
      "cell_type": "code",
      "metadata": {
        "colab": {
          "base_uri": "https://localhost:8080/"
        },
        "id": "f4no0jd-lCbY",
        "outputId": "89d75a04-0b46-4e29-c2ed-68551d141a49"
      },
      "source": [
        "from sklearn.metrics import accuracy_score, mean_squared_error\n",
        "\n",
        "for clf in (log_clf, rnd_clf, svm_clf, voting_clf):\n",
        "  \n",
        "  clf.fit(x_train, y_train)\n",
        "  y_pred = clf.predict(x_test)\n",
        "  \n",
        "  print(clf.__class__.__name__, accuracy_score(y_test, y_pred))"
      ],
      "execution_count": null,
      "outputs": [
        {
          "output_type": "stream",
          "name": "stdout",
          "text": [
            "LogisticRegression 0.824\n",
            "RandomForestClassifier 0.8393333333333334\n",
            "SVC 0.852\n",
            "VotingClassifier 0.8526666666666667\n"
          ]
        }
      ]
    },
    {
      "cell_type": "markdown",
      "metadata": {
        "id": "ssQQrpHXeOFm"
      },
      "source": [
        "## **Bagging and Pasting**\n",
        "\n",
        "Above we saw classifiers are of very different training algorithms.\n",
        "\n",
        "Another approach is to use the same training algorithm for every predictor, but to train them on different random subsets of the training set.\n",
        "\n",
        "When sampling is performed with replacement, this method is called **bagging** (short for **bootstrap aggregating**), bagging does row sampling.\n",
        "\n",
        "When sampling is performed without replacement, it is called **pasting**."
      ]
    },
    {
      "cell_type": "markdown",
      "metadata": {
        "id": "Jzr5BCm8hnYL"
      },
      "source": [
        "![image.png](https://raw.githubusercontent.com/aman5898/Pepcoding-Data-Science/main/Chapter%20Notes/7_Ensembler/assets/row_sampling.png)\n"
      ]
    },
    {
      "cell_type": "code",
      "metadata": {
        "colab": {
          "base_uri": "https://localhost:8080/"
        },
        "id": "hU0Hoe4pH_KG",
        "outputId": "cf383e49-d1b8-472f-9190-0409491036d5"
      },
      "source": [
        "from sklearn.ensemble import BaggingClassifier\n",
        "from sklearn.tree import DecisionTreeClassifier\n",
        "\n",
        "bag_clf = BaggingClassifier(\n",
        "        DecisionTreeClassifier(), n_estimators=500,\n",
        "        max_samples=100, bootstrap=True, n_jobs=-1)\n",
        "\n",
        "# n_estimators = use this much ensemble's \n",
        "# max_samples = train each ensemble with this much dataset instances\n",
        "# n_jobs = cpu cores to use, -1 mean use all\n",
        "# bootstrap = True bagging, False paging\n",
        "\n",
        "bag_clf.fit(x_train, y_train)\n",
        "bag_clf_y_pred = bag_clf.predict(x_test)\n",
        "\n",
        "d_tree_clf = DecisionTreeClassifier()\n",
        "d_tree_clf.fit(x_train, y_train)\n",
        "d_tree_clf_y_pred = d_tree_clf.predict(x_test)\n",
        "\n",
        "print(\"BaggingClassifier \", accuracy_score(bag_clf_y_pred, y_test))\n",
        "print(\"DecisionTreeClassifier \", accuracy_score(d_tree_clf_y_pred, y_test))"
      ],
      "execution_count": null,
      "outputs": [
        {
          "output_type": "stream",
          "name": "stdout",
          "text": [
            "BaggingClassifier  0.8553333333333333\n",
            "DecisionTreeClassifier  0.794\n"
          ]
        }
      ]
    },
    {
      "cell_type": "markdown",
      "metadata": {
        "id": "P2oruZM3JXvL"
      },
      "source": [
        "To perform **pasting** set `bootstrap = False`"
      ]
    },
    {
      "cell_type": "code",
      "metadata": {
        "colab": {
          "base_uri": "https://localhost:8080/"
        },
        "id": "8DkYkW2cJeYB",
        "outputId": "baeb3401-457f-4519-b151-9868b35a4612"
      },
      "source": [
        "from sklearn.ensemble import BaggingClassifier\n",
        "from sklearn.tree import DecisionTreeClassifier\n",
        "\n",
        "bag_clf = BaggingClassifier(\n",
        "        DecisionTreeClassifier(), n_estimators=500,\n",
        "        max_samples=100, bootstrap=False, n_jobs=-1)\n",
        "\n",
        "bag_clf.fit(x_train, y_train)\n",
        "y_pred = bag_clf.predict(x_test)\n",
        "\n",
        "accuracy_score(y_test, y_pred)"
      ],
      "execution_count": null,
      "outputs": [
        {
          "output_type": "execute_result",
          "data": {
            "text/plain": [
              "0.8566666666666667"
            ]
          },
          "metadata": {},
          "execution_count": 13
        }
      ]
    },
    {
      "cell_type": "markdown",
      "metadata": {
        "id": "AIMDPDj0RAUT"
      },
      "source": [
        "## **Out-of-Bag Evaluation**\n",
        "\n",
        "Only about 63% of the training instances are sampled on\n",
        "average for each predictor.6\n",
        "\n",
        "The remaining 37% of the training instances that are not\n",
        "sampled are called out-of-bag (oob) instances.\n",
        "\n",
        "Since a predictor never sees the oob instances during training, it can be evaluated on\n",
        "these instances, without the need for a separate validation set. Set `oob_score=True`."
      ]
    },
    {
      "cell_type": "code",
      "metadata": {
        "colab": {
          "base_uri": "https://localhost:8080/"
        },
        "id": "NoPU7QBgRis_",
        "outputId": "d695a81f-530d-473f-c571-cb9a77f99721"
      },
      "source": [
        "from sklearn.ensemble import BaggingClassifier\n",
        "from sklearn.tree import DecisionTreeClassifier\n",
        "\n",
        "bag_clf = BaggingClassifier(\n",
        "        DecisionTreeClassifier(), n_estimators=500,\n",
        "        max_samples=100, bootstrap=True, n_jobs=-1, oob_score=True)\n",
        "\n",
        "bag_clf.fit(x_train, y_train)\n",
        "y_pred = bag_clf.predict(x_test)\n",
        "\n",
        "print(\"oob prediction: \",bag_clf.oob_score_)\n",
        "print(\"x_test prediction:\", accuracy_score(y_test, y_pred))"
      ],
      "execution_count": null,
      "outputs": [
        {
          "output_type": "stream",
          "name": "stdout",
          "text": [
            "oob prediction:  0.8565714285714285\n",
            "x_test prediction: 0.858\n"
          ]
        }
      ]
    },
    {
      "cell_type": "markdown",
      "metadata": {
        "id": "0aPNH9qXSVCC"
      },
      "source": [
        "**bold text**# **Random Patches and Random Subspaces**\n",
        "\n",
        "**Random Subspaces**\n",
        "\n",
        "Purpose is to increase variation among the predictors in an ensemble model. This is done as decreasing the correlation between the predictors **increases the performance of the ensemble model**. The random subspace method is also known as **feature or attribute bagging**.\n",
        "\n",
        "What it does is, it creates subsets of the training set that only contain certain features. The chosen number of features are randomly sampled from the training set with replacement. However, most implementations allow the user to specify whether or not they would like features to be sampled with or without replacement\n",
        "\n",
        "**Random Patches**\n",
        "\n",
        "When the random subspace method is used along with bagging or pasting it is known as the random patches method."
      ]
    },
    {
      "cell_type": "markdown",
      "metadata": {
        "id": "aiA_AD1NhnYK"
      },
      "source": [
        "## **Reduces Variance**\n",
        "\n",
        "**Variance** Model changes a lot with change in variance.\n",
        "\n",
        "In bagging changing a sub-set to test-instances only few models change and dosent affect's result much.\n",
        "\n",
        "Bagging can reduce variance without change in bias.\n",
        "\n",
        "bagging can combine **low bias high variance** models and convert them to **low bias reduced variance** model.\n",
        "\n",
        "Example of low bias and high variance ALGO is DT."
      ]
    },
    {
      "cell_type": "markdown",
      "metadata": {
        "id": "d6RtLiXRJVlM"
      },
      "source": [
        "## **Random Forests**\n",
        "\n",
        "Random Forests = `DecisionTree + Bagging(row sampling) + column sampling( feature bagging)`\n",
        "\n",
        "\n",
        "A Random Forest is an **ensemble of Decision Trees**. Generally\n",
        "trained via the bagging method (or sometimes pasting).\n",
        "\n",
        "Random Forest is optimised for Decesion Tree than BaggingClassifier."
      ]
    },
    {
      "cell_type": "code",
      "metadata": {
        "id": "T4xR73gWpzWw"
      },
      "source": [
        "from sklearn.ensemble import RandomForestClassifier\n",
        "\n",
        "rnd_clf = RandomForestClassifier(n_estimators=500, max_leaf_nodes=16, n_jobs=-1)\n",
        "# set max_depth = None for creating a depth tree\n",
        "rnd_clf.fit(x_train, y_train)\n",
        "y_pred_rf = rnd_clf.predict(x_test)"
      ],
      "execution_count": null,
      "outputs": []
    },
    {
      "cell_type": "markdown",
      "metadata": {
        "id": "XQGK7bkjhnYM"
      },
      "source": [
        "Same implementation with bagging classifier"
      ]
    },
    {
      "cell_type": "code",
      "metadata": {
        "id": "PNzFqgC2qWu1"
      },
      "source": [
        "from sklearn.ensemble import BaggingClassifier\n",
        "from sklearn.tree import DecisionTreeClassifier\n",
        "\n",
        "bag_clf = BaggingClassifier(\n",
        "                          DecisionTreeClassifier(splitter=\"random\", max_leaf_nodes=16),\n",
        "                          n_estimators=500, max_samples=1.0, bootstrap=True, n_jobs=-1, bootstrap_features = True)\n",
        "\n",
        "bag_clf.fit(x_train, y_train)\n",
        "y_pred_bag_clf = bag_clf.predict(x_test)"
      ],
      "execution_count": null,
      "outputs": []
    },
    {
      "cell_type": "code",
      "metadata": {
        "colab": {
          "base_uri": "https://localhost:8080/"
        },
        "id": "L94mC1OZql1T",
        "outputId": "cd7aa629-684e-4af1-fc75-48967fd0a273"
      },
      "source": [
        "from sklearn.metrics import accuracy_score, mean_squared_error\n",
        "\n",
        "print('RandomForestClassifier ', accuracy_score(y_pred_rf, y_test))\n",
        "print('BaggingClassifier ', accuracy_score(y_pred_bag_clf, y_test))"
      ],
      "execution_count": null,
      "outputs": [
        {
          "output_type": "stream",
          "name": "stdout",
          "text": [
            "RandomForestClassifier  0.8566666666666667\n",
            "BaggingClassifier  0.85\n"
          ]
        }
      ]
    },
    {
      "cell_type": "markdown",
      "metadata": {
        "id": "1nhGsRWwrvYe"
      },
      "source": [
        "## **Extra-Trees**\n",
        "\n",
        "Decision Tree = `row_sampling + col_sampling `\n",
        "\n",
        "ExtraTreesClassifier = `row_sampling + col_sampling + randomized_selection_TAU`\n",
        "\n",
        "Because of **randomized_selection_TAU** variance is reduced even more than RandomForest.\n",
        "\n",
        "Using **random thresholds** for each feature rather than searching for the best possible thresholds(like regular Decision Trees do) is simply called an **Extremely Randomized Trees** ensemble."
      ]
    },
    {
      "cell_type": "code",
      "metadata": {
        "colab": {
          "base_uri": "https://localhost:8080/"
        },
        "id": "-7GbsyoSsdXF",
        "outputId": "a0acc86a-ceee-46a4-c8ab-52e63d27b86b"
      },
      "source": [
        "from sklearn.ensemble import ExtraTreesClassifier\n",
        "\n",
        "rnd_ex_clf = ExtraTreesClassifier(n_estimators=500, max_leaf_nodes=16, n_jobs=-1)\n",
        "rnd_ex_clf.fit(x_train, y_train)\n",
        "y_pred_rf_ex = rnd_ex_clf.predict(x_test)\n",
        "\n",
        "print('ExtraTreesClassifier ', accuracy_score(y_pred_rf_ex, y_test))"
      ],
      "execution_count": null,
      "outputs": [
        {
          "output_type": "stream",
          "name": "stdout",
          "text": [
            "ExtraTreesClassifier  0.846\n"
          ]
        }
      ]
    },
    {
      "cell_type": "markdown",
      "metadata": {
        "id": "ZGt7VBinvPRe"
      },
      "source": [
        "Random Forests measure the\n",
        "relative **importance of each feature**. Scikit-Learn measures a feature’s importance by\n",
        "looking at how much the tree nodes that use that feature reduce impurity on average\n",
        "(across all trees in the forest).\n",
        "\n",
        "see the result using the **feature_importances_** variable"
      ]
    },
    {
      "cell_type": "code",
      "metadata": {
        "colab": {
          "base_uri": "https://localhost:8080/"
        },
        "id": "yDug5XOyvGS_",
        "outputId": "bdabb619-cce5-4f4a-9979-94373f72bb5a"
      },
      "source": [
        "rnd_ex_clf.feature_importances_"
      ],
      "execution_count": null,
      "outputs": [
        {
          "output_type": "execute_result",
          "data": {
            "text/plain": [
              "array([0.45712201, 0.54287799])"
            ]
          },
          "metadata": {},
          "execution_count": 19
        }
      ]
    },
    {
      "cell_type": "code",
      "metadata": {
        "colab": {
          "base_uri": "https://localhost:8080/"
        },
        "id": "h4SD9Ztmvj9F",
        "outputId": "0f649979-1fbd-47be-8ba5-67844cefb9c6"
      },
      "source": [
        "from sklearn.datasets import load_iris\n",
        "from sklearn.ensemble import RandomForestClassifier\n",
        "\n",
        "iris = load_iris()\n",
        "rnd_clf = RandomForestClassifier(n_estimators=500, n_jobs=-1)\n",
        "rnd_clf.fit(iris[\"data\"], iris[\"target\"])\n",
        "\n",
        "for name, score in zip(iris[\"feature_names\"], rnd_clf.feature_importances_):\n",
        "  print(name, score)"
      ],
      "execution_count": null,
      "outputs": [
        {
          "output_type": "stream",
          "name": "stdout",
          "text": [
            "sepal length (cm) 0.09425829159539377\n",
            "sepal width (cm) 0.022674951641429648\n",
            "petal length (cm) 0.43542395612881785\n",
            "petal width (cm) 0.44764280063435874\n"
          ]
        }
      ]
    },
    {
      "cell_type": "markdown",
      "metadata": {
        "id": "LhkAU0QxkjLJ"
      },
      "source": [
        "## **Boosting**\n",
        "\n",
        "The general idea of most boosting methods is to **train predictors sequentially, each trying to correct its predecessor**.\n",
        "\n",
        "\n",
        "![image.png](https://raw.githubusercontent.com/aman5898/Pepcoding-Data-Science/main/Chapter%20Notes/7_Ensembler/assets/bagging-and-boosting.png)\n",
        "\n",
        "\n",
        "Bagging   : **high-variance , low-bias**  +   **randomization + aggregation** = **reduces-variance**\n",
        "\n",
        "Boosting  : **low-variance  , high-bias** + **additive-conbining** = **reduces-bias**\n",
        "\n",
        "Error = Bias^2 + varaince + E\n",
        "\n",
        "\n",
        "\n",
        "*   AdaBoost\n",
        "*   Gradient Boosting\n",
        "\n"
      ]
    },
    {
      "cell_type": "markdown",
      "metadata": {
        "id": "fufVH-v_qls-"
      },
      "source": [
        "## **AdaBoost**\n",
        "\n",
        "AdaBoost classifier works by giving weight's to training instances, a first base classifier (such as a Decision Tree) is trained and used to make predictions on the training set. The relative weight of misclassified training instances is then increased. A second classifier is trained using the updated weights and again it makes predictions on the training set, weights are updated, and so on..\n",
        "\n",
        "\n",
        "[Example](https://alliance.seas.upenn.edu/~cis520/wiki/index.php?n=lectures.boosting#:~:text=of%20the%20relationship%3A-,A%20toy%20example%20from%20Schapire%27s%20tutorial,The%20final%20classifier,-AdaBoost%20as%20exponential)\n"
      ]
    },
    {
      "cell_type": "code",
      "metadata": {
        "colab": {
          "base_uri": "https://localhost:8080/"
        },
        "id": "PG70QunllPBb",
        "outputId": "7283340b-ce19-4139-9a81-757d96a109cd"
      },
      "source": [
        "from sklearn.ensemble import AdaBoostClassifier\n",
        "from sklearn.tree import DecisionTreeClassifier\n",
        "\n",
        "ada_clf = AdaBoostClassifier(\n",
        "                          DecisionTreeClassifier(max_depth=1), n_estimators=200,\n",
        "                          algorithm=\"SAMME.R\", learning_rate=0.5)\n",
        "ada_clf.fit(x_train, y_train)"
      ],
      "execution_count": null,
      "outputs": [
        {
          "output_type": "execute_result",
          "data": {
            "text/plain": [
              "AdaBoostClassifier(base_estimator=DecisionTreeClassifier(max_depth=1),\n",
              "                   learning_rate=0.5, n_estimators=200)"
            ]
          },
          "metadata": {},
          "execution_count": 23
        }
      ]
    },
    {
      "cell_type": "code",
      "metadata": {
        "colab": {
          "base_uri": "https://localhost:8080/"
        },
        "id": "z9c8ZIZAe1YC",
        "outputId": "20908ba7-a92d-45b2-8d92-222aea194905"
      },
      "source": [
        "from sklearn.metrics import accuracy_score\n",
        "\n",
        "y_pred = ada_clf.predict(x_test)\n",
        "\n",
        "accuracy_score(y_pred, y_test)"
      ],
      "execution_count": null,
      "outputs": [
        {
          "output_type": "execute_result",
          "data": {
            "text/plain": [
              "0.8486666666666667"
            ]
          },
          "metadata": {},
          "execution_count": 25
        }
      ]
    },
    {
      "cell_type": "markdown",
      "source": [
        "### **Hyperparameter**"
      ],
      "metadata": {
        "id": "OO_A69y69_SR"
      }
    },
    {
      "cell_type": "code",
      "source": [
        "from sklearn.model_selection import cross_val_score\n",
        "from sklearn.datasets import make_circles\n",
        "from sklearn.ensemble import AdaBoostClassifier\n",
        "import matplotlib.pyplot as plt"
      ],
      "metadata": {
        "id": "2k5Syw14-BXb"
      },
      "execution_count": null,
      "outputs": []
    },
    {
      "cell_type": "code",
      "source": [
        "X, y = make_circles(n_samples = 100, random_state=10, noise = 0.15, factor = 0.5)\n",
        "plt.scatter(X[:, 0], X[:, 1], c = y)"
      ],
      "metadata": {
        "colab": {
          "base_uri": "https://localhost:8080/",
          "height": 282
        },
        "id": "QdPFu5dR-BZr",
        "outputId": "22540f6d-bf37-457b-8997-2400d7d2e1f2"
      },
      "execution_count": null,
      "outputs": [
        {
          "output_type": "execute_result",
          "data": {
            "text/plain": [
              "<matplotlib.collections.PathCollection at 0x7fa22d346a90>"
            ]
          },
          "metadata": {},
          "execution_count": 27
        },
        {
          "output_type": "display_data",
          "data": {
            "text/plain": [
              "<Figure size 432x288 with 1 Axes>"
            ],
            "image/png": "[encoded data removed]"
          },
          "metadata": {
            "needs_background": "light"
          }
        }
      ]
    },
    {
      "cell_type": "code",
      "source": [
        "clf = AdaBoostClassifier()\n",
        "cross_val_score(clf, X, y, cv = 10).mean()"
      ],
      "metadata": {
        "colab": {
          "base_uri": "https://localhost:8080/"
        },
        "id": "qIaZDJSB-uT8",
        "outputId": "e4de088e-a56a-4627-9b56-cbf96898c671"
      },
      "execution_count": null,
      "outputs": [
        {
          "output_type": "execute_result",
          "data": {
            "text/plain": [
              "0.9000000000000001"
            ]
          },
          "metadata": {},
          "execution_count": 28
        }
      ]
    },
    {
      "cell_type": "code",
      "source": [
        "from sklearn.model_selection import GridSearchCV\n",
        "\n",
        "param_grid = {\n",
        "    'n_estimators' : [5, 10, 25, 50, 100],\n",
        "    'learning_rate' : [1.0, 0.01, 0.001, 0.0001],\n",
        "    'algorithm': ['SAMME.R', 'SAMME']\n",
        "}\n",
        "\n",
        "gs = GridSearchCV(clf, param_grid, cv=10, n_jobs = -1)\n",
        "res = gs.fit(X, y)\n",
        "res"
      ],
      "metadata": {
        "colab": {
          "base_uri": "https://localhost:8080/"
        },
        "id": "1oGm28y5-BcR",
        "outputId": "6f61443d-e5e8-4cd6-f765-4bfe523d6610"
      },
      "execution_count": null,
      "outputs": [
        {
          "output_type": "execute_result",
          "data": {
            "text/plain": [
              "GridSearchCV(cv=10, estimator=AdaBoostClassifier(), n_jobs=-1,\n",
              "             param_grid={'algorithm': ['SAMME.R', 'SAMME'],\n",
              "                         'learning_rate': [1.0, 0.01, 0.001, 0.0001],\n",
              "                         'n_estimators': [5, 10, 25, 50, 100]})"
            ]
          },
          "metadata": {},
          "execution_count": 29
        }
      ]
    },
    {
      "cell_type": "code",
      "source": [
        "gs.best_score_, gs.best_params_"
      ],
      "metadata": {
        "colab": {
          "base_uri": "https://localhost:8080/"
        },
        "id": "JM6KiDsmAQv3",
        "outputId": "a3d3b43f-6917-48d7-b717-fe9ebbc4a41a"
      },
      "execution_count": null,
      "outputs": [
        {
          "output_type": "execute_result",
          "data": {
            "text/plain": [
              "(0.9200000000000002,\n",
              " {'algorithm': 'SAMME.R', 'learning_rate': 0.01, 'n_estimators': 25})"
            ]
          },
          "metadata": {},
          "execution_count": 30
        }
      ]
    },
    {
      "cell_type": "code",
      "source": [
        "for s, p in zip(gs.cv_results_['mean_test_score'], gs.cv_results_['params']):\n",
        "    print(s, p)"
      ],
      "metadata": {
        "id": "dfsUqC54_lIi",
        "colab": {
          "base_uri": "https://localhost:8080/"
        },
        "outputId": "f848dc29-fe74-48e9-a9a1-9a8cacbcb3c1"
      },
      "execution_count": null,
      "outputs": [
        {
          "output_type": "stream",
          "name": "stdout",
          "text": [
            "0.8800000000000001 {'algorithm': 'SAMME.R', 'learning_rate': 1.0, 'n_estimators': 5}\n",
            "0.8800000000000001 {'algorithm': 'SAMME.R', 'learning_rate': 1.0, 'n_estimators': 10}\n",
            "0.9000000000000001 {'algorithm': 'SAMME.R', 'learning_rate': 1.0, 'n_estimators': 25}\n",
            "0.9000000000000001 {'algorithm': 'SAMME.R', 'learning_rate': 1.0, 'n_estimators': 50}\n",
            "0.9000000000000001 {'algorithm': 'SAMME.R', 'learning_rate': 1.0, 'n_estimators': 100}\n",
            "0.67 {'algorithm': 'SAMME.R', 'learning_rate': 0.01, 'n_estimators': 5}\n",
            "0.74 {'algorithm': 'SAMME.R', 'learning_rate': 0.01, 'n_estimators': 10}\n",
            "0.9200000000000002 {'algorithm': 'SAMME.R', 'learning_rate': 0.01, 'n_estimators': 25}\n",
            "0.9200000000000002 {'algorithm': 'SAMME.R', 'learning_rate': 0.01, 'n_estimators': 50}\n",
            "0.9200000000000002 {'algorithm': 'SAMME.R', 'learning_rate': 0.01, 'n_estimators': 100}\n",
            "0.62 {'algorithm': 'SAMME.R', 'learning_rate': 0.001, 'n_estimators': 5}\n",
            "0.62 {'algorithm': 'SAMME.R', 'learning_rate': 0.001, 'n_estimators': 10}\n",
            "0.6599999999999999 {'algorithm': 'SAMME.R', 'learning_rate': 0.001, 'n_estimators': 25}\n",
            "0.69 {'algorithm': 'SAMME.R', 'learning_rate': 0.001, 'n_estimators': 50}\n",
            "0.75 {'algorithm': 'SAMME.R', 'learning_rate': 0.001, 'n_estimators': 100}\n",
            "0.6300000000000001 {'algorithm': 'SAMME.R', 'learning_rate': 0.0001, 'n_estimators': 5}\n",
            "0.6300000000000001 {'algorithm': 'SAMME.R', 'learning_rate': 0.0001, 'n_estimators': 10}\n",
            "0.62 {'algorithm': 'SAMME.R', 'learning_rate': 0.0001, 'n_estimators': 25}\n",
            "0.62 {'algorithm': 'SAMME.R', 'learning_rate': 0.0001, 'n_estimators': 50}\n",
            "0.62 {'algorithm': 'SAMME.R', 'learning_rate': 0.0001, 'n_estimators': 100}\n",
            "0.7699999999999999 {'algorithm': 'SAMME', 'learning_rate': 1.0, 'n_estimators': 5}\n",
            "0.8099999999999999 {'algorithm': 'SAMME', 'learning_rate': 1.0, 'n_estimators': 10}\n",
            "0.9000000000000001 {'algorithm': 'SAMME', 'learning_rate': 1.0, 'n_estimators': 25}\n",
            "0.9000000000000001 {'algorithm': 'SAMME', 'learning_rate': 1.0, 'n_estimators': 50}\n",
            "0.89 {'algorithm': 'SAMME', 'learning_rate': 1.0, 'n_estimators': 100}\n",
            "0.6300000000000001 {'algorithm': 'SAMME', 'learning_rate': 0.01, 'n_estimators': 5}\n",
            "0.6300000000000001 {'algorithm': 'SAMME', 'learning_rate': 0.01, 'n_estimators': 10}\n",
            "0.6300000000000001 {'algorithm': 'SAMME', 'learning_rate': 0.01, 'n_estimators': 25}\n",
            "0.6300000000000001 {'algorithm': 'SAMME', 'learning_rate': 0.01, 'n_estimators': 50}\n",
            "0.6100000000000001 {'algorithm': 'SAMME', 'learning_rate': 0.01, 'n_estimators': 100}\n",
            "0.6300000000000001 {'algorithm': 'SAMME', 'learning_rate': 0.001, 'n_estimators': 5}\n",
            "0.6300000000000001 {'algorithm': 'SAMME', 'learning_rate': 0.001, 'n_estimators': 10}\n",
            "0.6300000000000001 {'algorithm': 'SAMME', 'learning_rate': 0.001, 'n_estimators': 25}\n",
            "0.6300000000000001 {'algorithm': 'SAMME', 'learning_rate': 0.001, 'n_estimators': 50}\n",
            "0.6300000000000001 {'algorithm': 'SAMME', 'learning_rate': 0.001, 'n_estimators': 100}\n",
            "0.6300000000000001 {'algorithm': 'SAMME', 'learning_rate': 0.0001, 'n_estimators': 5}\n",
            "0.6300000000000001 {'algorithm': 'SAMME', 'learning_rate': 0.0001, 'n_estimators': 10}\n",
            "0.6300000000000001 {'algorithm': 'SAMME', 'learning_rate': 0.0001, 'n_estimators': 25}\n",
            "0.6300000000000001 {'algorithm': 'SAMME', 'learning_rate': 0.0001, 'n_estimators': 50}\n",
            "0.6300000000000001 {'algorithm': 'SAMME', 'learning_rate': 0.0001, 'n_estimators': 100}\n"
          ]
        }
      ]
    },
    {
      "cell_type": "code",
      "source": [],
      "metadata": {
        "id": "f9_5djbj_lFn"
      },
      "execution_count": null,
      "outputs": []
    },
    {
      "cell_type": "markdown",
      "metadata": {
        "id": "vx5otk6oi3Vd"
      },
      "source": [
        "##**Gradient Boosting**\n",
        "\n",
        "Sequentially adding predictors to an ensemble, each one\n",
        "correcting its predecessor.\n",
        "\n",
        "This method tries to fit the new predictor to the residual\n",
        "errors made by the previous predictor.\n",
        "\n",
        "[Gradient Boosting Algo](https://en.wikipedia.org/wiki/Gradient_boosting#:~:text=Input%3A%20training%20set,Output)"
      ]
    },
    {
      "cell_type": "code",
      "metadata": {
        "colab": {
          "base_uri": "https://localhost:8080/",
          "height": 265
        },
        "id": "ANR40jN18gkq",
        "outputId": "85767f95-f6ab-48d1-cfa0-ce6e60d6ce7e"
      },
      "source": [
        "x = np.round(100*np.random.rand(200))\n",
        "x = np.round(x-x.mean())\n",
        "x.sort()\n",
        "y = x**2 + np.random.normal(-200, 200, x.size)\n",
        "\n",
        "plt.scatter(x, y, s = np.full(x.size, 3))\n",
        "\n",
        "# rand = np.random.permutation(np.arange(x.size))\n",
        "# rand_train = rand[:150]\n",
        "# rand_train.sort()\n",
        "# rand_test = rand[150:]\n",
        "# rand_test.sort()\n",
        "\n",
        "# x_train = x.reshape(x.size, 1)[rand_train]\n",
        "# y_train = y[rand_train]\n",
        "# x_test = x.reshape(x.size, 1)[rand_test]\n",
        "# y_test = y[rand_test]\n",
        "\n",
        "x_train = x.reshape(x.size, 1)\n",
        "y_train = y"
      ],
      "execution_count": null,
      "outputs": [
        {
          "output_type": "display_data",
          "data": {
            "text/plain": [
              "<Figure size 432x288 with 1 Axes>"
            ],
            "image/png": "[encoded data removed]"
          },
          "metadata": {
            "needs_background": "light"
          }
        }
      ]
    },
    {
      "cell_type": "code",
      "metadata": {
        "id": "liIW_xGukS07"
      },
      "source": [
        "from sklearn.tree import DecisionTreeRegressor\n",
        "from sklearn.metrics import accuracy_score, mean_squared_error\n",
        "\n",
        "tree_reg1 = DecisionTreeRegressor(max_depth=2)\n",
        "tree_reg1.fit(x_train, y_train)\n",
        "y_predict1 = tree_reg1.predict(x_train)\n",
        "# Now train a second DecisionTreeRegressor on the residual errors made by the first predictor:\n",
        "\n",
        "y2 = y_train - y_predict1\n",
        "tree_reg2 = DecisionTreeRegressor(max_depth=2)\n",
        "tree_reg2.fit(x_train, y2)\n",
        "y_predict2 = tree_reg2.predict(x_train)\n",
        "\n",
        "# Then we train a third regressor on the residual errors made by the second predictor:\n",
        "\n",
        "y3 = y2 - y_predict2\n",
        "tree_reg3 = DecisionTreeRegressor(max_depth=2)\n",
        "tree_reg3.fit(x_train, y3)\n",
        "y_predict3 = tree_reg3.predict(x_train)\n",
        "# create overall prediction by adding all predictions\n",
        "\n",
        "\n"
      ],
      "execution_count": null,
      "outputs": []
    },
    {
      "cell_type": "code",
      "metadata": {
        "colab": {
          "base_uri": "https://localhost:8080/"
        },
        "id": "EQSX1kCk1nL7",
        "outputId": "1a3a2c31-7181-4b10-c1a3-40df94d5d0ab"
      },
      "source": [
        "print(\"y1 prediction \", mean_squared_error(y_predict1, y_train))\n",
        "print(\"y2 prediction \", mean_squared_error(y_predict1 + y_predict2, y_train))\n",
        "print(\"y3 prediction \", mean_squared_error(y_predict1 + y_predict2 + y_predict3, y_train))"
      ],
      "execution_count": null,
      "outputs": [
        {
          "output_type": "stream",
          "name": "stdout",
          "text": [
            "y1 prediction  156634.96544014986\n",
            "y2 prediction  84036.79494470776\n",
            "y3 prediction  52698.59362568481\n"
          ]
        }
      ]
    },
    {
      "cell_type": "code",
      "metadata": {
        "colab": {
          "base_uri": "https://localhost:8080/",
          "height": 282
        },
        "id": "xpYS-YtO6bgJ",
        "outputId": "86eebb34-5bb6-4da3-d525-f9376a87be7b"
      },
      "source": [
        "import matplotlib.pyplot as plt\n",
        "\n",
        "plt1 = plt.subplot(2,2 ,1)\n",
        "plt2 = plt.subplot(2,2 ,2)\n",
        "plt3 = plt.subplot(2,2 ,3)\n",
        "\n",
        "plt1.scatter(x,y, s = np.ones(x.size)*3)\n",
        "plt1.plot(x_train,y_predict1, color='r')\n",
        "\n",
        "plt2.scatter(x,y, s = np.ones(x.size)*3)\n",
        "plt2.plot(x_train,y_predict1+y_predict2, color='r')\n",
        "\n",
        "plt3.scatter(x,y, s = np.ones(x.size)*3)\n",
        "plt3.plot(x_train,y_predict1+y_predict2+y_predict3, color='r')"
      ],
      "execution_count": null,
      "outputs": [
        {
          "output_type": "execute_result",
          "data": {
            "text/plain": [
              "[<matplotlib.lines.Line2D at 0x7fa22ccdc490>]"
            ]
          },
          "metadata": {},
          "execution_count": 35
        },
        {
          "output_type": "display_data",
          "data": {
            "text/plain": [
              "<Figure size 432x288 with 3 Axes>"
            ],
            "image/png": "[encoded data removed]"
          },
          "metadata": {
            "needs_background": "light"
          }
        }
      ]
    },
    {
      "cell_type": "markdown",
      "metadata": {
        "id": "hV0oYXP32giu"
      },
      "source": [
        "Using very less predictors will have less accuraccy, using many predictors will overfit the training set, use **Early Stoping** to prevent this."
      ]
    },
    {
      "cell_type": "code",
      "metadata": {
        "colab": {
          "base_uri": "https://localhost:8080/"
        },
        "id": "q1zy8TG52-RR",
        "outputId": "ecea4436-d418-4482-f7c5-2a8b08bd9ea5"
      },
      "source": [
        "import numpy as np\n",
        "from sklearn.model_selection import train_test_split\n",
        "from sklearn.metrics import mean_squared_error\n",
        "from sklearn.ensemble import GradientBoostingRegressor\n",
        "\n",
        "gbrt = GradientBoostingRegressor(max_depth=2, n_estimators=300,)\n",
        "gbrt.fit(x_train, y_train)\n",
        "\n",
        "# errors = [mean_squared_error(y_test, y_pred) for y_pred in gbrt.staged_predict(x_test)]\n",
        "# print(errors)\n",
        "# bst_n_estimators = np.argmin(errors)\n",
        "\n",
        "# gbrt_best = GradientBoostingRegressor(max_depth=2,n_estimators=bst_n_estimators,)\n",
        "# gbrt_best.fit(x_train, y_train)\n",
        "\n",
        "# y_pred = gbrt_best.predict(x_test)\n",
        "\n",
        "print(mean_squared_error(y_test, y_pred))"
      ],
      "execution_count": null,
      "outputs": [
        {
          "output_type": "stream",
          "name": "stdout",
          "text": [
            "0.15133333333333332\n"
          ]
        }
      ]
    },
    {
      "cell_type": "code",
      "metadata": {
        "id": "9iFlZ4goF43n"
      },
      "source": [
        "plt.scatter(x,y, s = np.ones(x.size)*3)\n",
        "plt.plot(x,gbrt_best.predict(x_train), color='r')"
      ],
      "execution_count": null,
      "outputs": []
    },
    {
      "cell_type": "code",
      "metadata": {
        "colab": {
          "base_uri": "https://localhost:8080/",
          "height": 282
        },
        "id": "obaVET8sIXkY",
        "outputId": "7d942902-c6bb-4d53-99dc-771dc784912f"
      },
      "source": [
        "plt.scatter(x,y, s = np.ones(x.size)*3)\n",
        "plt.plot(x,gbrt.predict(x_train), color='r')"
      ],
      "execution_count": null,
      "outputs": [
        {
          "output_type": "execute_result",
          "data": {
            "text/plain": [
              "[<matplotlib.lines.Line2D at 0x7fa22baa1e90>]"
            ]
          },
          "metadata": {},
          "execution_count": 41
        },
        {
          "output_type": "display_data",
          "data": {
            "text/plain": [
              "<Figure size 432x288 with 1 Axes>"
            ],
            "image/png": "[encoded data removed]"
          },
          "metadata": {
            "needs_background": "light"
          }
        }
      ]
    },
    {
      "cell_type": "markdown",
      "metadata": {
        "id": "IEInrvir6VYL"
      },
      "source": [
        "**Implement early stopping by actually stopping training early, You can do so by setting `warm_start=True`.**"
      ]
    },
    {
      "cell_type": "code",
      "metadata": {
        "id": "vavWQ8-B6e6P"
      },
      "source": [
        "gbrt = GradientBoostingRegressor(max_depth=2, warm_start=True)\n",
        "\n",
        "min_val_error = float(\"inf\")\n",
        "error_going_up = 0\n",
        "\n",
        "for n_estimators in range(1, 120):\n",
        "    gbrt.n_estimators = n_estimators\n",
        "    gbrt.fit(x_train, y_train)\n",
        "    y_pred = gbrt.predict(x_test)\n",
        "    val_error = mean_squared_error(y_test, y_pred)\n",
        "    if val_error < min_val_error:\n",
        "        min_val_error = val_error\n",
        "        error_going_up = 0\n",
        "    else:\n",
        "        error_going_up += 1\n",
        "        if error_going_up == 5:\n",
        "          break # early stopping"
      ],
      "execution_count": null,
      "outputs": []
    },
    {
      "cell_type": "code",
      "metadata": {
        "colab": {
          "base_uri": "https://localhost:8080/",
          "height": 284
        },
        "id": "THia0bMVIoEf",
        "outputId": "f3009d56-0906-4482-8352-75642f45c305"
      },
      "source": [
        "plt.scatter(x,y, s = np.ones(x.size)*3)\n",
        "plt.plot(x,gbrt.predict(x_train), color='r')"
      ],
      "execution_count": null,
      "outputs": [
        {
          "output_type": "execute_result",
          "data": {
            "text/plain": [
              "[<matplotlib.lines.Line2D at 0x7f14ae05a2d0>]"
            ]
          },
          "metadata": {},
          "execution_count": 39
        },
        {
          "output_type": "display_data",
          "data": {
            "image/png": "[encoded data removed]",
            "text/plain": [
              "<Figure size 432x288 with 1 Axes>"
            ]
          },
          "metadata": {
            "needs_background": "light"
          }
        }
      ]
    },
    {
      "cell_type": "markdown",
      "metadata": {
        "id": "NE2MRASn8I9N"
      },
      "source": [
        "Better implemntation of boosting then GBDT is **XGBoost**.\n",
        "\n",
        "XGBoost has `row sampling` + `col sampling` + `L1,L2 regularization`"
      ]
    },
    {
      "cell_type": "code",
      "metadata": {
        "id": "In_ZPQGy63VG"
      },
      "source": [
        "import xgboost\n",
        "from sklearn.metrics import mean_squared_error\n",
        "\n",
        "xgb_reg = xgboost.XGBRegressor()\n",
        "xgb_reg.fit(x_train, y_train, eval_set=[(x_test, y_test)], early_stopping_rounds=3)\n",
        "\n",
        "y_pred = xgb_reg.predict(x_test)\n",
        "\n",
        "print(mean_squared_error(y_pred, y_test))"
      ],
      "execution_count": null,
      "outputs": []
    },
    {
      "cell_type": "markdown",
      "metadata": {
        "id": "s5uAcrwP86Ph"
      },
      "source": [
        "##**Stacking**\n",
        "\n",
        "It is based on a simple idea: instead of using trivial functions (such as hard voting) to aggregate the predictions of all predictors in an ensemble,\n",
        "why don’t we **train a model to perform this aggregation**?\n",
        "\n",
        "[Algorithm](http://rasbt.github.io/mlxtend/user_guide/classifier/StackingClassifier/)"
      ]
    },
    {
      "cell_type": "code",
      "source": [
        "from sklearn.ensemble import StackingRegressor\n",
        "from sklearn.datasets import load_diabetes\n",
        "\n",
        "import matplotlib.pyplot as plt\n",
        "\n",
        "X, y = load_diabetes(return_X_y=True)"
      ],
      "metadata": {
        "id": "XDM5wG7f48Wp"
      },
      "execution_count": null,
      "outputs": []
    },
    {
      "cell_type": "code",
      "source": [
        "from sklearn.linear_model import RidgeCV, LassoCV\n",
        "from sklearn.neighbors import KNeighborsRegressor\n",
        "estimators = [('ridge', RidgeCV()),\n",
        "               ('lasso', LassoCV(random_state=42)),\n",
        "               ('knr', KNeighborsRegressor(n_neighbors=20,\n",
        "                                           metric='euclidean'))]"
      ],
      "metadata": {
        "id": "o9SUhQC46wSd"
      },
      "execution_count": null,
      "outputs": []
    },
    {
      "cell_type": "code",
      "source": [
        "from sklearn.ensemble import GradientBoostingRegressor\n",
        "from sklearn.ensemble import StackingRegressor\n",
        "final_estimator = GradientBoostingRegressor(\n",
        "     n_estimators=25, subsample=0.5, min_samples_leaf=25, max_features=1,\n",
        "     random_state=42)\n",
        "reg = StackingRegressor(\n",
        "     estimators=estimators,\n",
        "     final_estimator=final_estimator)"
      ],
      "metadata": {
        "id": "hewTcE178fdw"
      },
      "execution_count": null,
      "outputs": []
    },
    {
      "cell_type": "code",
      "source": [
        "from sklearn.model_selection import train_test_split\n",
        "X_train, X_test, y_train, y_test = train_test_split(X, y,\n",
        "                                                     random_state=42)\n",
        "reg.fit(X_train, y_train)"
      ],
      "metadata": {
        "id": "JITJ9hwp8XFJ",
        "colab": {
          "base_uri": "https://localhost:8080/"
        },
        "outputId": "db0cce9f-43ad-4db5-97da-434f8e6404d8"
      },
      "execution_count": null,
      "outputs": [
        {
          "output_type": "execute_result",
          "data": {
            "text/plain": [
              "StackingRegressor(estimators=[('ridge',\n",
              "                               RidgeCV(alphas=array([ 0.1,  1. , 10. ]))),\n",
              "                              ('lasso', LassoCV(random_state=42)),\n",
              "                              ('knr',\n",
              "                               KNeighborsRegressor(metric='euclidean',\n",
              "                                                   n_neighbors=20))],\n",
              "                  final_estimator=GradientBoostingRegressor(max_features=1,\n",
              "                                                            min_samples_leaf=25,\n",
              "                                                            n_estimators=25,\n",
              "                                                            random_state=42,\n",
              "                                                            subsample=0.5))"
            ]
          },
          "metadata": {},
          "execution_count": 45
        }
      ]
    },
    {
      "cell_type": "code",
      "source": [
        "mods = [m[1] for m in estimators]\n",
        "mods.append(reg)\n",
        "\n",
        "for model in mods:\n",
        "    model.fit(X_train, y_train)\n",
        "    print(model.__class__.__name__, model.score(X_test, y_test))"
      ],
      "metadata": {
        "colab": {
          "base_uri": "https://localhost:8080/"
        },
        "id": "zweYi0x76wUc",
        "outputId": "30c9a575-c182-4da1-f4f7-2480f135bcef"
      },
      "execution_count": null,
      "outputs": [
        {
          "output_type": "stream",
          "name": "stdout",
          "text": [
            "RidgeCV 0.4918283729062708\n",
            "LassoCV 0.4866763449729544\n",
            "KNeighborsRegressor 0.4677462093858523\n",
            "StackingRegressor 0.5267013426135393\n"
          ]
        }
      ]
    },
    {
      "cell_type": "code",
      "source": [],
      "metadata": {
        "id": "TzvIsR-i6wX8"
      },
      "execution_count": null,
      "outputs": []
    },
    {
      "cell_type": "markdown",
      "source": [
        "# New Section"
      ],
      "metadata": {
        "id": "H0Y8KZUYbUZu"
      }
    }
  ]
}